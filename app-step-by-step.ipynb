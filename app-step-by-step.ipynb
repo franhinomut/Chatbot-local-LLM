{
 "cells": [
  {
   "cell_type": "code",
   "execution_count": null,
   "metadata": {},
   "outputs": [],
   "source": [
    "import os\n",
    "import tempfile\n",
    "import streamlit as st\n",
    "from streamlit_chat import message\n",
    "from rag import ChatCSV"
   ]
  },
  {
   "cell_type": "markdown",
   "metadata": {},
   "source": [
    "Next, let’s add a page title for our web app."
   ]
  },
  {
   "cell_type": "code",
   "execution_count": null,
   "metadata": {},
   "outputs": [],
   "source": [
    "# adds a title for the web page\n",
    "st.set_page_config(page_title=\"Résumé Chatbot\")"
   ]
  },
  {
   "cell_type": "markdown",
   "metadata": {},
   "source": [
    "Then, let’s create a function that will display messages."
   ]
  },
  {
   "cell_type": "code",
   "execution_count": null,
   "metadata": {},
   "outputs": [],
   "source": [
    "def display_messages():\n",
    "    \"\"\"\n",
    "    Displays chat messages in the Streamlit app.\n",
    "\n",
    "    This function assumes that chat messages are stored in the Streamlit session state\n",
    "    under the key \"messages\" as a list of tuples, where each tuple contains the message\n",
    "    content and a boolean indicating whether it's a user message or not.\n",
    "\n",
    "    Additionally, it creates an empty container for a thinking spinner in the Streamlit\n",
    "    session state under the key \"thinking_spinner\".\n",
    "\n",
    "    Note: Streamlit (st) functions are used for displaying content in a Streamlit app.\n",
    "    \"\"\"\n",
    "    # Display a subheader for the chat.\n",
    "    st.subheader(\"Chat\")\n",
    "\n",
    "    # Iterate through messages stored in the session state.\n",
    "    for i, (msg, is_user) in enumerate(st.session_state[\"messages\"]):\n",
    "        # Display each message using the message function with appropriate styling.\n",
    "        message(msg, is_user=is_user, key=str(i))\n",
    "\n",
    "    # Create an empty container for a thinking spinner and store it in the session state.\n",
    "    st.session_state[\"thinking_spinner\"] = st.empty()"
   ]
  },
  {
   "cell_type": "markdown",
   "metadata": {},
   "source": [
    "The next code block is where the user input triggers the assistant to process the input, display a thinking spinner, generate a response, and update the chat messages accordingly."
   ]
  },
  {
   "cell_type": "code",
   "execution_count": null,
   "metadata": {},
   "outputs": [],
   "source": [
    "ef process_input():\n",
    "    \"\"\"\n",
    "    Processes user input and updates the chat messages in the Streamlit app.\n",
    "\n",
    "    This function assumes that user input is stored in the Streamlit session state\n",
    "    under the key \"user_input,\" and the question-answering assistant is stored\n",
    "    under the key \"assistant.\"\n",
    "\n",
    "    Additionally, it utilizes Streamlit functions for displaying a thinking spinner\n",
    "    and updating the chat messages.\n",
    "\n",
    "    Note: Streamlit (st) functions are used for interacting with the Streamlit app.\n",
    "    \"\"\"\n",
    "    # Check if there is user input and it is not empty.\n",
    "    if st.session_state[\"user_input\"] and len(st.session_state[\"user_input\"].strip()) > 0:\n",
    "        # Extract and clean the user input.\n",
    "        user_text = st.session_state[\"user_input\"].strip()\n",
    "\n",
    "        # Display a thinking spinner while the assistant processes the input.\n",
    "        with st.session_state[\"thinking_spinner\"], st.spinner(f\"Thinking\"):\n",
    "            # Ask the assistant for a response based on the user input.\n",
    "            agent_text = st.session_state[\"assistant\"].ask(user_text)\n",
    "\n",
    "        # Append user and assistant messages to the chat messages in the session state.\n",
    "        st.session_state[\"messages\"].append((user_text, True))\n",
    "        st.session_state[\"messages\"].append((agent_text, False))"
   ]
  },
  {
   "cell_type": "markdown",
   "metadata": {},
   "source": [
    "The next function below clears the state of the assistant, uploads files, ingests them, and updates the chat messages accordingly"
   ]
  },
  {
   "cell_type": "code",
   "execution_count": null,
   "metadata": {},
   "outputs": [],
   "source": [
    "def read_and_save_file():\n",
    "    \"\"\"\n",
    "    Reads and saves the uploaded file, performs ingestion, and clears the assistant state.\n",
    "\n",
    "    This function assumes that the question-answering assistant is stored in the Streamlit\n",
    "    session state under the key \"assistant,\" and file-related information is stored under\n",
    "    the key \"file_uploader.\"\n",
    "\n",
    "    Additionally, it utilizes Streamlit functions for displaying spinners and updating the\n",
    "    assistant's state.\n",
    "\n",
    "    Note: Streamlit (st) functions are used for interacting with the Streamlit app.\n",
    "    \"\"\"\n",
    "    # Clear the state of the question-answering assistant.\n",
    "    st.session_state[\"assistant\"].clear()\n",
    "\n",
    "    # Clear the chat messages and user input in the session state.\n",
    "    st.session_state[\"messages\"] = []\n",
    "    st.session_state[\"user_input\"] = \"\"\n",
    "\n",
    "    # Iterate through the uploaded files in the session state.\n",
    "    for file in st.session_state[\"file_uploader\"]:\n",
    "        # Save the file to a temporary location and get the file path.\n",
    "        with tempfile.NamedTemporaryFile(delete=False) as tf:\n",
    "            tf.write(file.getbuffer())\n",
    "            file_path = tf.name\n",
    "\n",
    "        # Display a spinner while ingesting the file.\n",
    "        with st.session_state[\"ingestion_spinner\"], st.spinner(f\"Ingesting {file.name}\"):\n",
    "            st.session_state[\"assistant\"].ingest(file_path)\n",
    "        os.remove(file_path)"
   ]
  },
  {
   "cell_type": "markdown",
   "metadata": {},
   "source": [
    "Next, the code defines the layout and functionality of a web page for a chat application that allows users to upload CSV files, displays chat messages and enables users to input messages."
   ]
  },
  {
   "cell_type": "code",
   "execution_count": null,
   "metadata": {},
   "outputs": [],
   "source": [
    "def page():\n",
    "    \"\"\"\n",
    "    Defines the content of the Streamlit app page for ChatCSV.\n",
    "\n",
    "    This function sets up the initial session state if it doesn't exist and displays\n",
    "    the main components of the Streamlit app, including the header, file uploader,\n",
    "    and associated functionalities.\n",
    "\n",
    "    Note: Streamlit (st) functions are used for interacting with the Streamlit app.\n",
    "    \"\"\"\n",
    "    # Check if the session state is empty (first time loading the app).\n",
    "    if len(st.session_state) == 0:\n",
    "        # Initialize the session state with empty chat messages and a ChatCSV assistant.\n",
    "        st.session_state[\"messages\"] = []\n",
    "        st.session_state[\"assistant\"] = ChatCSV()\n",
    "\n",
    "    # Display the main header of the Streamlit app.\n",
    "    st.header(\"ChatCSV\")\n",
    "\n",
    "    # Display a subheader and a file uploader for uploading CSV files.\n",
    "    st.subheader(\"Upload a csv file\")\n",
    "    st.file_uploader(\n",
    "        \"Upload csv\",\n",
    "        type=[\"csv\"],\n",
    "        key=\"file_uploader\",\n",
    "        on_change=read_and_save_file,\n",
    "        label_visibility=\"collapsed\",\n",
    "        accept_multiple_files=True,\n",
    "    )\n",
    "\n",
    "    # Create an empty container for a spinner related to file ingestion\n",
    "    # and store it in the Streamlit session state under the key \"ingestion_spinner\".\n",
    "    st.session_state[\"ingestion_spinner\"] = st.empty()\n",
    "\n",
    "    # Display chat messages in the Streamlit app using the defined function.\n",
    "    display_messages()\n",
    "\n",
    "    # Display a text input field for user messages in the Streamlit app.\n",
    "    # The input field has a key \"user_input,\" and the on_change event triggers the\n",
    "    # \"process_input\" function when the input changes.\n",
    "    st.text_input(\"Message\", key=\"user_input\", on_change=process_input)"
   ]
  },
  {
   "cell_type": "markdown",
   "metadata": {},
   "source": [
    "To close out the code, we add the following:"
   ]
  },
  {
   "cell_type": "code",
   "execution_count": null,
   "metadata": {},
   "outputs": [],
   "source": [
    "# Check if the script is being run as the main module.\n",
    "if __name__ == \"__main__\":\n",
    "    # Call the \"page\" function to set up and run the Streamlit app.\n",
    "    page()"
   ]
  }
 ],
 "metadata": {
  "language_info": {
   "name": "python"
  }
 },
 "nbformat": 4,
 "nbformat_minor": 2
}
